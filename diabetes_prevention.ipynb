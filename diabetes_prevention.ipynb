{
 "cells": [
  {
   "cell_type": "markdown",
   "id": "4beae10b",
   "metadata": {},
   "source": [
    "# 1. Import Necessary Libraries"
   ]
  },
  {
   "cell_type": "code",
   "execution_count": 1,
   "id": "d8d26632",
   "metadata": {},
   "outputs": [],
   "source": [
    "import pandas as pd\n",
    "import numpy as np\n",
    "import matplotlib.pyplot as plt\n",
    "import seaborn as sns\n",
    "import warnings\n",
    "%matplotlib inline\n",
    "warnings.filterwarnings('ignore')"
   ]
  },
  {
   "cell_type": "markdown",
   "id": "7c4cdfec",
   "metadata": {},
   "source": [
    "# 2. Data Inspection"
   ]
  },
  {
   "cell_type": "code",
   "execution_count": 2,
   "id": "e43e1d56",
   "metadata": {
    "scrolled": true
   },
   "outputs": [
    {
     "data": {
      "text/html": [
       "<div>\n",
       "<style scoped>\n",
       "    .dataframe tbody tr th:only-of-type {\n",
       "        vertical-align: middle;\n",
       "    }\n",
       "\n",
       "    .dataframe tbody tr th {\n",
       "        vertical-align: top;\n",
       "    }\n",
       "\n",
       "    .dataframe thead th {\n",
       "        text-align: right;\n",
       "    }\n",
       "</style>\n",
       "<table border=\"1\" class=\"dataframe\">\n",
       "  <thead>\n",
       "    <tr style=\"text-align: right;\">\n",
       "      <th></th>\n",
       "      <th>Age</th>\n",
       "      <th>Gender</th>\n",
       "      <th>Polyuria</th>\n",
       "      <th>Polydipsia</th>\n",
       "      <th>sudden weight loss</th>\n",
       "      <th>weakness</th>\n",
       "      <th>Polyphagia</th>\n",
       "      <th>Genital thrush</th>\n",
       "      <th>visual blurring</th>\n",
       "      <th>Itching</th>\n",
       "      <th>Irritability</th>\n",
       "      <th>delayed healing</th>\n",
       "      <th>partial paresis</th>\n",
       "      <th>muscle stiffness</th>\n",
       "      <th>Alopecia</th>\n",
       "      <th>Obesity</th>\n",
       "      <th>class</th>\n",
       "    </tr>\n",
       "  </thead>\n",
       "  <tbody>\n",
       "    <tr>\n",
       "      <th>0</th>\n",
       "      <td>40</td>\n",
       "      <td>Male</td>\n",
       "      <td>No</td>\n",
       "      <td>Yes</td>\n",
       "      <td>No</td>\n",
       "      <td>Yes</td>\n",
       "      <td>No</td>\n",
       "      <td>No</td>\n",
       "      <td>No</td>\n",
       "      <td>Yes</td>\n",
       "      <td>No</td>\n",
       "      <td>Yes</td>\n",
       "      <td>No</td>\n",
       "      <td>Yes</td>\n",
       "      <td>Yes</td>\n",
       "      <td>Yes</td>\n",
       "      <td>Positive</td>\n",
       "    </tr>\n",
       "    <tr>\n",
       "      <th>1</th>\n",
       "      <td>58</td>\n",
       "      <td>Male</td>\n",
       "      <td>No</td>\n",
       "      <td>No</td>\n",
       "      <td>No</td>\n",
       "      <td>Yes</td>\n",
       "      <td>No</td>\n",
       "      <td>No</td>\n",
       "      <td>Yes</td>\n",
       "      <td>No</td>\n",
       "      <td>No</td>\n",
       "      <td>No</td>\n",
       "      <td>Yes</td>\n",
       "      <td>No</td>\n",
       "      <td>Yes</td>\n",
       "      <td>No</td>\n",
       "      <td>Positive</td>\n",
       "    </tr>\n",
       "    <tr>\n",
       "      <th>2</th>\n",
       "      <td>41</td>\n",
       "      <td>Male</td>\n",
       "      <td>Yes</td>\n",
       "      <td>No</td>\n",
       "      <td>No</td>\n",
       "      <td>Yes</td>\n",
       "      <td>Yes</td>\n",
       "      <td>No</td>\n",
       "      <td>No</td>\n",
       "      <td>Yes</td>\n",
       "      <td>No</td>\n",
       "      <td>Yes</td>\n",
       "      <td>No</td>\n",
       "      <td>Yes</td>\n",
       "      <td>Yes</td>\n",
       "      <td>No</td>\n",
       "      <td>Positive</td>\n",
       "    </tr>\n",
       "    <tr>\n",
       "      <th>3</th>\n",
       "      <td>45</td>\n",
       "      <td>Male</td>\n",
       "      <td>No</td>\n",
       "      <td>No</td>\n",
       "      <td>Yes</td>\n",
       "      <td>Yes</td>\n",
       "      <td>Yes</td>\n",
       "      <td>Yes</td>\n",
       "      <td>No</td>\n",
       "      <td>Yes</td>\n",
       "      <td>No</td>\n",
       "      <td>Yes</td>\n",
       "      <td>No</td>\n",
       "      <td>No</td>\n",
       "      <td>No</td>\n",
       "      <td>No</td>\n",
       "      <td>Positive</td>\n",
       "    </tr>\n",
       "    <tr>\n",
       "      <th>4</th>\n",
       "      <td>60</td>\n",
       "      <td>Male</td>\n",
       "      <td>Yes</td>\n",
       "      <td>Yes</td>\n",
       "      <td>Yes</td>\n",
       "      <td>Yes</td>\n",
       "      <td>Yes</td>\n",
       "      <td>No</td>\n",
       "      <td>Yes</td>\n",
       "      <td>Yes</td>\n",
       "      <td>Yes</td>\n",
       "      <td>Yes</td>\n",
       "      <td>Yes</td>\n",
       "      <td>Yes</td>\n",
       "      <td>Yes</td>\n",
       "      <td>Yes</td>\n",
       "      <td>Positive</td>\n",
       "    </tr>\n",
       "  </tbody>\n",
       "</table>\n",
       "</div>"
      ],
      "text/plain": [
       "   Age Gender Polyuria Polydipsia sudden weight loss weakness Polyphagia  \\\n",
       "0   40   Male       No        Yes                 No      Yes         No   \n",
       "1   58   Male       No         No                 No      Yes         No   \n",
       "2   41   Male      Yes         No                 No      Yes        Yes   \n",
       "3   45   Male       No         No                Yes      Yes        Yes   \n",
       "4   60   Male      Yes        Yes                Yes      Yes        Yes   \n",
       "\n",
       "  Genital thrush visual blurring Itching Irritability delayed healing  \\\n",
       "0             No              No     Yes           No             Yes   \n",
       "1             No             Yes      No           No              No   \n",
       "2             No              No     Yes           No             Yes   \n",
       "3            Yes              No     Yes           No             Yes   \n",
       "4             No             Yes     Yes          Yes             Yes   \n",
       "\n",
       "  partial paresis muscle stiffness Alopecia Obesity     class  \n",
       "0              No              Yes      Yes     Yes  Positive  \n",
       "1             Yes               No      Yes      No  Positive  \n",
       "2              No              Yes      Yes      No  Positive  \n",
       "3              No               No       No      No  Positive  \n",
       "4             Yes              Yes      Yes     Yes  Positive  "
      ]
     },
     "execution_count": 2,
     "metadata": {},
     "output_type": "execute_result"
    }
   ],
   "source": [
    "# load the data\n",
    "df = pd.read_csv('diabetes_data.csv')\n",
    "\n",
    "# inspect the top few rows\n",
    "df.head()"
   ]
  },
  {
   "cell_type": "markdown",
   "id": "12928eac",
   "metadata": {},
   "source": [
    "**Age** is the only numerical variable in the dataset"
   ]
  },
  {
   "cell_type": "code",
   "execution_count": 3,
   "id": "4a1ebfb2",
   "metadata": {},
   "outputs": [],
   "source": [
    "# rename columns for consistency\n",
    "df.columns = df.columns.str.lower().str.replace(' ','_')"
   ]
  },
  {
   "cell_type": "code",
   "execution_count": 4,
   "id": "42d82cb0",
   "metadata": {},
   "outputs": [
    {
     "name": "stdout",
     "output_type": "stream",
     "text": [
      "<class 'pandas.core.frame.DataFrame'>\n",
      "RangeIndex: 520 entries, 0 to 519\n",
      "Data columns (total 17 columns):\n",
      " #   Column              Non-Null Count  Dtype \n",
      "---  ------              --------------  ----- \n",
      " 0   age                 520 non-null    int64 \n",
      " 1   gender              520 non-null    object\n",
      " 2   polyuria            520 non-null    object\n",
      " 3   polydipsia          520 non-null    object\n",
      " 4   sudden_weight_loss  520 non-null    object\n",
      " 5   weakness            520 non-null    object\n",
      " 6   polyphagia          520 non-null    object\n",
      " 7   genital_thrush      520 non-null    object\n",
      " 8   visual_blurring     520 non-null    object\n",
      " 9   itching             520 non-null    object\n",
      " 10  irritability        520 non-null    object\n",
      " 11  delayed_healing     520 non-null    object\n",
      " 12  partial_paresis     520 non-null    object\n",
      " 13  muscle_stiffness    520 non-null    object\n",
      " 14  alopecia            520 non-null    object\n",
      " 15  obesity             520 non-null    object\n",
      " 16  class               520 non-null    object\n",
      "dtypes: int64(1), object(16)\n",
      "memory usage: 69.2+ KB\n"
     ]
    }
   ],
   "source": [
    "# get a summary of the data\n",
    "df.info()"
   ]
  },
  {
   "cell_type": "markdown",
   "id": "1d718c07",
   "metadata": {},
   "source": [
    "- The data contains 520 rows and 17 columns\n",
    "- There are no missing values"
   ]
  },
  {
   "cell_type": "code",
   "execution_count": 5,
   "id": "8ef752e0",
   "metadata": {},
   "outputs": [
    {
     "data": {
      "text/html": [
       "<div>\n",
       "<style scoped>\n",
       "    .dataframe tbody tr th:only-of-type {\n",
       "        vertical-align: middle;\n",
       "    }\n",
       "\n",
       "    .dataframe tbody tr th {\n",
       "        vertical-align: top;\n",
       "    }\n",
       "\n",
       "    .dataframe thead th {\n",
       "        text-align: right;\n",
       "    }\n",
       "</style>\n",
       "<table border=\"1\" class=\"dataframe\">\n",
       "  <thead>\n",
       "    <tr style=\"text-align: right;\">\n",
       "      <th></th>\n",
       "      <th>age</th>\n",
       "    </tr>\n",
       "  </thead>\n",
       "  <tbody>\n",
       "    <tr>\n",
       "      <th>count</th>\n",
       "      <td>520.000000</td>\n",
       "    </tr>\n",
       "    <tr>\n",
       "      <th>mean</th>\n",
       "      <td>48.028846</td>\n",
       "    </tr>\n",
       "    <tr>\n",
       "      <th>std</th>\n",
       "      <td>12.151466</td>\n",
       "    </tr>\n",
       "    <tr>\n",
       "      <th>min</th>\n",
       "      <td>16.000000</td>\n",
       "    </tr>\n",
       "    <tr>\n",
       "      <th>25%</th>\n",
       "      <td>39.000000</td>\n",
       "    </tr>\n",
       "    <tr>\n",
       "      <th>50%</th>\n",
       "      <td>47.500000</td>\n",
       "    </tr>\n",
       "    <tr>\n",
       "      <th>75%</th>\n",
       "      <td>57.000000</td>\n",
       "    </tr>\n",
       "    <tr>\n",
       "      <th>max</th>\n",
       "      <td>90.000000</td>\n",
       "    </tr>\n",
       "  </tbody>\n",
       "</table>\n",
       "</div>"
      ],
      "text/plain": [
       "              age\n",
       "count  520.000000\n",
       "mean    48.028846\n",
       "std     12.151466\n",
       "min     16.000000\n",
       "25%     39.000000\n",
       "50%     47.500000\n",
       "75%     57.000000\n",
       "max     90.000000"
      ]
     },
     "execution_count": 5,
     "metadata": {},
     "output_type": "execute_result"
    }
   ],
   "source": [
    "# check a detailed summary of the numerical attribute\n",
    "df.describe()"
   ]
  },
  {
   "cell_type": "markdown",
   "id": "4eb9b412",
   "metadata": {},
   "source": [
    "- The youngest respondent in the dataset is **16 years** of age while the oldest is **90 years old**\n",
    "- The average age of the respondents is **47.5 years**"
   ]
  },
  {
   "cell_type": "markdown",
   "id": "4a27bc90",
   "metadata": {},
   "source": [
    "# 3. Exploratory Data Analysis"
   ]
  },
  {
   "cell_type": "markdown",
   "id": "f07e3db9",
   "metadata": {},
   "source": [
    "### Diabetic Class"
   ]
  },
  {
   "cell_type": "markdown",
   "id": "e5ac585e",
   "metadata": {},
   "source": [
    "What percentage of the cases in the dataset is diabetic?"
   ]
  },
  {
   "cell_type": "code",
   "execution_count": 6,
   "id": "054bdf10",
   "metadata": {
    "scrolled": true
   },
   "outputs": [
    {
     "data": {
      "image/png": "[encoded data removed]",
      "text/plain": [
       "<Figure size 432x288 with 1 Axes>"
      ]
     },
     "metadata": {
      "needs_background": "light"
     },
     "output_type": "display_data"
    }
   ],
   "source": [
    "(df['class'].value_counts(normalize=True)*100).plot.barh()\n",
    "plt.title('Diabetic Cases')\n",
    "plt.xlabel('Percentage');"
   ]
  },
  {
   "cell_type": "markdown",
   "id": "d683fe13",
   "metadata": {},
   "source": [
    "More than **60 percent** of the respondents were diabetic"
   ]
  },
  {
   "cell_type": "code",
   "execution_count": 7,
   "id": "5a149cb0",
   "metadata": {},
   "outputs": [],
   "source": [
    "# create a dataframe for positive cases\n",
    "positive = df[df['class']=='Positive']"
   ]
  },
  {
   "cell_type": "markdown",
   "id": "251568da",
   "metadata": {},
   "source": [
    "### Age"
   ]
  },
  {
   "cell_type": "code",
   "execution_count": 8,
   "id": "732b0a87",
   "metadata": {
    "scrolled": true
   },
   "outputs": [
    {
     "data": {
      "image/png": "[encoded data removed]",
      "text/plain": [
       "<Figure size 432x288 with 1 Axes>"
      ]
     },
     "metadata": {
      "needs_background": "light"
     },
     "output_type": "display_data"
    }
   ],
   "source": [
    "sns.kdeplot(positive.age,shade=True)\n",
    "plt.title('Overall Age Distribution of Diabetic Patients');"
   ]
  },
  {
   "cell_type": "markdown",
   "id": "b0bc7a21",
   "metadata": {},
   "source": [
    "The age variable is almost normally distributed with most diabetic patients aged between **40 and 60 years**"
   ]
  },
  {
   "cell_type": "code",
   "execution_count": 9,
   "id": "e8f0d669",
   "metadata": {
    "scrolled": true
   },
   "outputs": [
    {
     "data": {
      "image/png": "[encoded data removed]",
      "text/plain": [
       "<Figure size 432x288 with 1 Axes>"
      ]
     },
     "metadata": {
      "needs_background": "light"
     },
     "output_type": "display_data"
    }
   ],
   "source": [
    "sns.kdeplot(positive[positive.gender=='Male'].age,label='Male',shade=True)\n",
    "sns.kdeplot(positive[positive.gender=='Female'].age,label='Female',shade=True)\n",
    "plt.legend()\n",
    "plt.title('Age Distribution of Male and Female Diabetic Patients');"
   ]
  },
  {
   "cell_type": "markdown",
   "id": "a26cfb88",
   "metadata": {},
   "source": [
    "Diabetes is prevalent among young women and old men. The disease is more common among **women** around ages **30 to 50** and **men** around ages **50 to 70**"
   ]
  },
  {
   "cell_type": "markdown",
   "id": "ae1fcc27",
   "metadata": {},
   "source": [
    "### Gender"
   ]
  },
  {
   "cell_type": "code",
   "execution_count": 10,
   "id": "1fe87165",
   "metadata": {},
   "outputs": [
    {
     "data": {
      "image/png": "[encoded data removed]",
      "text/plain": [
       "<Figure size 432x288 with 1 Axes>"
      ]
     },
     "metadata": {
      "needs_background": "light"
     },
     "output_type": "display_data"
    }
   ],
   "source": [
    "gender = df.gender.value_counts(normalize=True)*100\n",
    "gender.plot.barh()\n",
    "plt.title('Gender Distribution of Respondents')\n",
    "plt.xlabel('Percentage');"
   ]
  },
  {
   "cell_type": "markdown",
   "id": "a781edca",
   "metadata": {},
   "source": [
    "Over **60 percent** of the respondents were **boys and/or men**"
   ]
  },
  {
   "cell_type": "code",
   "execution_count": 11,
   "id": "84cd294d",
   "metadata": {
    "scrolled": true
   },
   "outputs": [
    {
     "data": {
      "image/png": "[encoded data removed]",
      "text/plain": [
       "<Figure size 432x288 with 1 Axes>"
      ]
     },
     "metadata": {
      "needs_background": "light"
     },
     "output_type": "display_data"
    }
   ],
   "source": [
    "gender = positive.gender.value_counts(normalize=True)*100\n",
    "gender.plot.barh()\n",
    "plt.title('Gender Distribution of Diabetic Patients')\n",
    "plt.xlabel('Percentage');"
   ]
  },
  {
   "cell_type": "markdown",
   "id": "ff8c713f",
   "metadata": {},
   "source": [
    "Over **50 percent** of the diabetic patients were **girls and/or women**. There are more male respondents in the dataset but female respondents make up most of the diabetic cases  \n",
    "\n",
    "What percentage of the female respondents does this account for?"
   ]
  },
  {
   "cell_type": "code",
   "execution_count": 12,
   "id": "d50e8863",
   "metadata": {},
   "outputs": [
    {
     "data": {
      "image/png": "[encoded data removed]",
      "text/plain": [
       "<Figure size 432x288 with 1 Axes>"
      ]
     },
     "metadata": {
      "needs_background": "light"
     },
     "output_type": "display_data"
    }
   ],
   "source": [
    "female = df[df.gender=='Female']['class'].value_counts(normalize=True)*100\n",
    "female.plot.barh()\n",
    "plt.title('Diabetic Cases Among Female Respondents')\n",
    "plt.xlabel('Percentage');"
   ]
  },
  {
   "cell_type": "markdown",
   "id": "2b9822b2",
   "metadata": {},
   "source": [
    "Over **80 percent** of the **female respondents** had diabetis"
   ]
  },
  {
   "cell_type": "markdown",
   "id": "306efd54",
   "metadata": {},
   "source": [
    "### Sudden Weight Loss"
   ]
  },
  {
   "cell_type": "code",
   "execution_count": 13,
   "id": "eeff4538",
   "metadata": {},
   "outputs": [
    {
     "data": {
      "image/png": "[encoded data removed]",
      "text/plain": [
       "<Figure size 432x288 with 1 Axes>"
      ]
     },
     "metadata": {
      "needs_background": "light"
     },
     "output_type": "display_data"
    }
   ],
   "source": [
    "weight_loss = positive['sudden_weight_loss'].value_counts(normalize=True)*100\n",
    "weight_loss.plot.barh()\n",
    "plt.title('Sudden Weight Loss Among Diabetic Patients')\n",
    "plt.xlabel('percentage');"
   ]
  },
  {
   "cell_type": "markdown",
   "id": "d9ba99ae",
   "metadata": {},
   "source": [
    "About **60 percent** of the diabetic patients experienced sudden weight loss."
   ]
  },
  {
   "cell_type": "code",
   "execution_count": 14,
   "id": "359536a6",
   "metadata": {},
   "outputs": [
    {
     "data": {
      "image/png": "[encoded data removed]",
      "text/plain": [
       "<Figure size 432x288 with 1 Axes>"
      ]
     },
     "metadata": {
      "needs_background": "light"
     },
     "output_type": "display_data"
    }
   ],
   "source": [
    "(positive[positive.sudden_weight_loss=='Yes'].gender.value_counts(normalize=True)*100).plot.barh()\n",
    "plt.xlabel('percentage')\n",
    "plt.title('Sudden Weight Loss Across Gender');"
   ]
  },
  {
   "cell_type": "markdown",
   "id": "7727cc25",
   "metadata": {},
   "source": [
    "About **60 percent** of the diabetic patients who experienced sudden weight loss were female patients. This could be because we have more female diabetic cases\n",
    "\n",
    "Let's see if weight loss was more common in a particular gender group"
   ]
  },
  {
   "cell_type": "code",
   "execution_count": 15,
   "id": "1d6960d1",
   "metadata": {
    "scrolled": true
   },
   "outputs": [
    {
     "data": {
      "image/png": "[encoded data removed]",
      "text/plain": [
       "<Figure size 432x288 with 1 Axes>"
      ]
     },
     "metadata": {
      "needs_background": "light"
     },
     "output_type": "display_data"
    }
   ],
   "source": [
    "weight_loss = pd.crosstab(index=positive.gender,columns=positive['sudden_weight_loss']).reset_index()\n",
    "weight_loss['percent_loss'] = weight_loss.apply(lambda x: x.Yes*100/(x.Yes+x.No),axis=1)\n",
    "sns.barplot(x='gender',y='percent_loss',data=weight_loss)\n",
    "plt.title('Sudden Weight Loss in Diabetic Patients Across Gender')\n",
    "plt.ylabel('percentage');"
   ]
  },
  {
   "cell_type": "markdown",
   "id": "0f642998",
   "metadata": {},
   "source": [
    "Almost **half** of the male diabetic patients and over **60 percent** of the female diabetic patients experienced sudden weight loss"
   ]
  },
  {
   "cell_type": "markdown",
   "id": "f75fda4d",
   "metadata": {},
   "source": [
    "### Weakness"
   ]
  },
  {
   "cell_type": "code",
   "execution_count": 16,
   "id": "616607b2",
   "metadata": {},
   "outputs": [
    {
     "data": {
      "image/png": "[encoded data removed]",
      "text/plain": [
       "<Figure size 432x288 with 1 Axes>"
      ]
     },
     "metadata": {
      "needs_background": "light"
     },
     "output_type": "display_data"
    }
   ],
   "source": [
    "weakness = positive['weakness'].value_counts(normalize=True)*100\n",
    "weakness.plot.barh()\n",
    "plt.title('Weakness Among Diabetic Patients')\n",
    "plt.xlabel('percentage');"
   ]
  },
  {
   "cell_type": "markdown",
   "id": "67e966d6",
   "metadata": {},
   "source": [
    "About **70 percent** of the diabetic patients experienced weakness."
   ]
  },
  {
   "cell_type": "code",
   "execution_count": 17,
   "id": "bc81f658",
   "metadata": {},
   "outputs": [
    {
     "data": {
      "image/png": "[encoded data removed]",
      "text/plain": [
       "<Figure size 432x288 with 1 Axes>"
      ]
     },
     "metadata": {
      "needs_background": "light"
     },
     "output_type": "display_data"
    }
   ],
   "source": [
    "(positive[positive.weakness=='Yes'].gender.value_counts(normalize=True)*100).plot.barh()\n",
    "plt.xlabel('percentage')\n",
    "plt.title('Weakness Across Gender');"
   ]
  },
  {
   "cell_type": "markdown",
   "id": "da9ceadf",
   "metadata": {},
   "source": [
    "Over **50 percent** of the diabetic patients who experienced weakness were female patients.\n",
    "\n",
    "Let's see if weakness was more common in a particular gender group"
   ]
  },
  {
   "cell_type": "code",
   "execution_count": 18,
   "id": "4f1b8200",
   "metadata": {
    "scrolled": true
   },
   "outputs": [
    {
     "data": {
      "image/png": "[encoded data removed]",
      "text/plain": [
       "<Figure size 432x288 with 1 Axes>"
      ]
     },
     "metadata": {
      "needs_background": "light"
     },
     "output_type": "display_data"
    }
   ],
   "source": [
    "weakness = pd.crosstab(index=positive.gender,columns=positive['weakness']).reset_index()\n",
    "weakness['percent_weakness'] = weakness.apply(lambda x: x.Yes*100/(x.Yes+x.No),axis=1)\n",
    "sns.barplot(x='gender',y='percent_weakness',data=weakness)\n",
    "plt.title('Weakness in Diabetic Patients Across Gender')\n",
    "plt.ylabel('percentage');"
   ]
  },
  {
   "cell_type": "markdown",
   "id": "a16d191a",
   "metadata": {},
   "source": [
    "A large percentage of the diabetic patients in both groups experienced weakness"
   ]
  },
  {
   "cell_type": "markdown",
   "id": "99a917f6",
   "metadata": {},
   "source": [
    "### Genital Thrush"
   ]
  },
  {
   "cell_type": "code",
   "execution_count": 19,
   "id": "f460bf22",
   "metadata": {},
   "outputs": [
    {
     "data": {
      "image/png": "[encoded data removed]",
      "text/plain": [
       "<Figure size 432x288 with 1 Axes>"
      ]
     },
     "metadata": {
      "needs_background": "light"
     },
     "output_type": "display_data"
    }
   ],
   "source": [
    "thrush = positive['genital_thrush'].value_counts(normalize=True)*100\n",
    "thrush.plot.barh()\n",
    "plt.title('Genital Thrush Among Diabetic Patients')\n",
    "plt.xlabel('percentage');"
   ]
  },
  {
   "cell_type": "markdown",
   "id": "8fc68fe5",
   "metadata": {},
   "source": [
    "About **30 percent** of the diabetic patients experienced genital thrush."
   ]
  },
  {
   "cell_type": "code",
   "execution_count": 20,
   "id": "6148d2ba",
   "metadata": {},
   "outputs": [
    {
     "data": {
      "image/png": "[encoded data removed]",
      "text/plain": [
       "<Figure size 432x288 with 1 Axes>"
      ]
     },
     "metadata": {
      "needs_background": "light"
     },
     "output_type": "display_data"
    }
   ],
   "source": [
    "(positive[positive.genital_thrush=='Yes'].gender.value_counts(normalize=True)*100).plot.barh()\n",
    "plt.xlabel('percentage')\n",
    "plt.title('Genital Thrush Across Gender');"
   ]
  },
  {
   "cell_type": "markdown",
   "id": "922c6550",
   "metadata": {},
   "source": [
    "A disproportionately high percentage of diabetic patients who experienced genital thrush were male patients."
   ]
  },
  {
   "cell_type": "code",
   "execution_count": 21,
   "id": "114a01c8",
   "metadata": {
    "scrolled": true
   },
   "outputs": [
    {
     "data": {
      "image/png": "[encoded data removed]",
      "text/plain": [
       "<Figure size 432x288 with 1 Axes>"
      ]
     },
     "metadata": {
      "needs_background": "light"
     },
     "output_type": "display_data"
    }
   ],
   "source": [
    "thrush = pd.crosstab(index=positive.gender,columns=positive['genital_thrush']).reset_index()\n",
    "thrush['percent_thrush'] = thrush.apply(lambda x: x.Yes*100/(x.Yes+x.No),axis=1)\n",
    "sns.barplot(x='gender',y='percent_thrush',data=thrush)\n",
    "plt.title('Genital Thrush in Diabetic Patients Across Gender')\n",
    "plt.ylabel('percentage');"
   ]
  },
  {
   "cell_type": "markdown",
   "id": "7f7c7d85",
   "metadata": {},
   "source": [
    "When compared to the female group, a large percentage of the male diabetic patients experienced  genital thrush"
   ]
  },
  {
   "cell_type": "markdown",
   "id": "23888459",
   "metadata": {},
   "source": [
    "### Visual Blurring"
   ]
  },
  {
   "cell_type": "code",
   "execution_count": 22,
   "id": "1ea90e6d",
   "metadata": {},
   "outputs": [
    {
     "data": {
      "image/png": "[encoded data removed]",
      "text/plain": [
       "<Figure size 432x288 with 1 Axes>"
      ]
     },
     "metadata": {
      "needs_background": "light"
     },
     "output_type": "display_data"
    }
   ],
   "source": [
    "blurring = positive['visual_blurring'].value_counts(normalize=True)*100\n",
    "blurring.plot.barh()\n",
    "plt.title('Visual Blurring in Diabetic Patients')\n",
    "plt.xlabel('percentage');"
   ]
  },
  {
   "cell_type": "markdown",
   "id": "723e71b9",
   "metadata": {},
   "source": [
    "Over **50 percent** of the diabetic patients experienced blurry vision."
   ]
  },
  {
   "cell_type": "code",
   "execution_count": 23,
   "id": "15727777",
   "metadata": {
    "scrolled": true
   },
   "outputs": [
    {
     "data": {
      "image/png": "[encoded data removed]",
      "text/plain": [
       "<Figure size 432x288 with 1 Axes>"
      ]
     },
     "metadata": {
      "needs_background": "light"
     },
     "output_type": "display_data"
    }
   ],
   "source": [
    "(positive[positive.visual_blurring=='Yes'].gender.value_counts(normalize=True)*100).plot.barh()\n",
    "plt.xlabel('percentage')\n",
    "plt.title('Blurry Vision Across Gender');"
   ]
  },
  {
   "cell_type": "markdown",
   "id": "e72d6413",
   "metadata": {},
   "source": [
    "About **60 percent** of the diabetic patients who experienced blurry vision were female patients."
   ]
  },
  {
   "cell_type": "code",
   "execution_count": 24,
   "id": "024b8801",
   "metadata": {
    "scrolled": true
   },
   "outputs": [
    {
     "data": {
      "image/png": "[encoded data removed]",
      "text/plain": [
       "<Figure size 432x288 with 1 Axes>"
      ]
     },
     "metadata": {
      "needs_background": "light"
     },
     "output_type": "display_data"
    }
   ],
   "source": [
    "blurring = pd.crosstab(index=positive.gender,columns=positive['visual_blurring']).reset_index()\n",
    "blurring['percent_blurring'] = blurring.apply(lambda x: x.Yes*100/(x.Yes+x.No),axis=1)\n",
    "sns.barplot(x='gender',y='percent_blurring',data=blurring)\n",
    "plt.title('Blurry Vision in Diabetic Patients Across Gender')\n",
    "plt.ylabel('percentage');"
   ]
  },
  {
   "cell_type": "markdown",
   "id": "f49a1587",
   "metadata": {},
   "source": [
    "Almost **half** of the male diabetic patients and about **60 percent** of the female diabetic patients experienced blurry vision"
   ]
  },
  {
   "cell_type": "markdown",
   "id": "1eb81528",
   "metadata": {},
   "source": [
    "### Itching"
   ]
  },
  {
   "cell_type": "code",
   "execution_count": 25,
   "id": "a2e95c42",
   "metadata": {},
   "outputs": [
    {
     "data": {
      "image/png": "[encoded data removed]",
      "text/plain": [
       "<Figure size 432x288 with 1 Axes>"
      ]
     },
     "metadata": {
      "needs_background": "light"
     },
     "output_type": "display_data"
    }
   ],
   "source": [
    "itching = positive['itching'].value_counts(normalize=True)*100\n",
    "itching.plot.barh()\n",
    "plt.title('Itching in Diabetic Patients')\n",
    "plt.xlabel('percentage');"
   ]
  },
  {
   "cell_type": "markdown",
   "id": "5a1d095a",
   "metadata": {},
   "source": [
    "About **50 percent** of the diabetic patients experienced itching."
   ]
  },
  {
   "cell_type": "code",
   "execution_count": 26,
   "id": "deaaeb9a",
   "metadata": {
    "scrolled": true
   },
   "outputs": [
    {
     "data": {
      "image/png": "[encoded data removed]",
      "text/plain": [
       "<Figure size 432x288 with 1 Axes>"
      ]
     },
     "metadata": {
      "needs_background": "light"
     },
     "output_type": "display_data"
    }
   ],
   "source": [
    "(positive[positive.itching=='Yes'].gender.value_counts(normalize=True)*100).plot.barh()\n",
    "plt.xlabel('percentage')\n",
    "plt.title('Itching Across Gender');"
   ]
  },
  {
   "cell_type": "markdown",
   "id": "c9f00be5",
   "metadata": {},
   "source": [
    "Over **50 percent** of the diabetic patients who experienced itching were female patients."
   ]
  },
  {
   "cell_type": "code",
   "execution_count": 27,
   "id": "6ceaad8d",
   "metadata": {
    "scrolled": true
   },
   "outputs": [
    {
     "data": {
      "image/png": "[encoded data removed]",
      "text/plain": [
       "<Figure size 432x288 with 1 Axes>"
      ]
     },
     "metadata": {
      "needs_background": "light"
     },
     "output_type": "display_data"
    }
   ],
   "source": [
    "itching = pd.crosstab(index=positive.gender,columns=positive['itching']).reset_index()\n",
    "itching['percent_itching'] = itching.apply(lambda x: x.Yes*100/(x.Yes+x.No),axis=1)\n",
    "sns.barplot(x='gender',y='percent_itching',data=itching)\n",
    "plt.title('Itching in Diabetic Patients Across Gender')\n",
    "plt.ylabel('percentage');"
   ]
  },
  {
   "cell_type": "markdown",
   "id": "f6ad3655",
   "metadata": {},
   "source": [
    "About half of the diabetic patients in both groups experienced itchness"
   ]
  },
  {
   "cell_type": "markdown",
   "id": "aaf6ed18",
   "metadata": {},
   "source": [
    "### Delayed Healing"
   ]
  },
  {
   "cell_type": "code",
   "execution_count": 28,
   "id": "cd62d20d",
   "metadata": {},
   "outputs": [
    {
     "data": {
      "image/png": "[encoded data removed]",
      "text/plain": [
       "<Figure size 432x288 with 1 Axes>"
      ]
     },
     "metadata": {
      "needs_background": "light"
     },
     "output_type": "display_data"
    }
   ],
   "source": [
    "healing = positive['delayed_healing'].value_counts(normalize=True)*100\n",
    "healing.plot.barh()\n",
    "plt.title('Delayed Healing in Diabetic Patients')\n",
    "plt.xlabel('percentage');"
   ]
  },
  {
   "cell_type": "markdown",
   "id": "10d35a9d",
   "metadata": {},
   "source": [
    "Over **50 percent** of the diabetic patients experienced delayed healing."
   ]
  },
  {
   "cell_type": "code",
   "execution_count": 29,
   "id": "24caca5f",
   "metadata": {
    "scrolled": true
   },
   "outputs": [
    {
     "data": {
      "image/png": "[encoded data removed]",
      "text/plain": [
       "<Figure size 432x288 with 1 Axes>"
      ]
     },
     "metadata": {
      "needs_background": "light"
     },
     "output_type": "display_data"
    }
   ],
   "source": [
    "(positive[positive.delayed_healing=='Yes'].gender.value_counts(normalize=True)*100).plot.barh()\n",
    "plt.xlabel('percentage')\n",
    "plt.title('Delayed Healing Across Gender');"
   ]
  },
  {
   "cell_type": "markdown",
   "id": "db06eca1",
   "metadata": {},
   "source": [
    "About **60 percent** of the diabetic patients who experienced delayed healing were female patients."
   ]
  },
  {
   "cell_type": "code",
   "execution_count": 30,
   "id": "5b6890d3",
   "metadata": {
    "scrolled": true
   },
   "outputs": [
    {
     "data": {
      "image/png": "[encoded data removed]",
      "text/plain": [
       "<Figure size 432x288 with 1 Axes>"
      ]
     },
     "metadata": {
      "needs_background": "light"
     },
     "output_type": "display_data"
    }
   ],
   "source": [
    "healing = pd.crosstab(index=positive.gender,columns=positive['delayed_healing']).reset_index()\n",
    "healing['percent_healing'] = healing.apply(lambda x: x.Yes*100/(x.Yes+x.No),axis=1)\n",
    "sns.barplot(x='gender',y='percent_healing',data=healing)\n",
    "plt.title('Delayed Healing in Diabetic Patients Across Gender')\n",
    "plt.ylabel('percentage');"
   ]
  },
  {
   "cell_type": "markdown",
   "id": "7679d4bf",
   "metadata": {},
   "source": [
    "About **half** of the male diabetic patients and over **50 percent** of the female diabetic patients experienced delayed healing"
   ]
  },
  {
   "cell_type": "markdown",
   "id": "5a4bcd56",
   "metadata": {},
   "source": [
    "### Obesity"
   ]
  },
  {
   "cell_type": "code",
   "execution_count": 31,
   "id": "b7b0bd18",
   "metadata": {},
   "outputs": [
    {
     "data": {
      "image/png": "[encoded data removed]",
      "text/plain": [
       "<Figure size 432x288 with 1 Axes>"
      ]
     },
     "metadata": {
      "needs_background": "light"
     },
     "output_type": "display_data"
    }
   ],
   "source": [
    "obesity = positive['obesity'].value_counts(normalize=True)*100\n",
    "obesity.plot.barh()\n",
    "plt.xlabel('percentage')\n",
    "plt.title('Obesity in Diabetic Patients');"
   ]
  },
  {
   "cell_type": "markdown",
   "id": "c1ec553a",
   "metadata": {},
   "source": [
    "About **20 percent** of the diabetic patients were obese."
   ]
  },
  {
   "cell_type": "code",
   "execution_count": 32,
   "id": "deb63624",
   "metadata": {
    "scrolled": true
   },
   "outputs": [
    {
     "data": {
      "image/png": "[encoded data removed]",
      "text/plain": [
       "<Figure size 432x288 with 1 Axes>"
      ]
     },
     "metadata": {
      "needs_background": "light"
     },
     "output_type": "display_data"
    }
   ],
   "source": [
    "(positive[positive.obesity=='Yes'].gender.value_counts(normalize=True)*100).plot.barh()\n",
    "plt.xlabel('percentage')\n",
    "plt.title('Obesity Across Gender');"
   ]
  },
  {
   "cell_type": "markdown",
   "id": "884dbbca",
   "metadata": {},
   "source": [
    "Over **50 percent** of the obese diabetic patients were male patients."
   ]
  },
  {
   "cell_type": "code",
   "execution_count": 33,
   "id": "394ca392",
   "metadata": {
    "scrolled": true
   },
   "outputs": [
    {
     "data": {
      "image/png": "[encoded data removed]",
      "text/plain": [
       "<Figure size 432x288 with 1 Axes>"
      ]
     },
     "metadata": {
      "needs_background": "light"
     },
     "output_type": "display_data"
    }
   ],
   "source": [
    "obese = pd.crosstab(index=positive.gender,columns=positive['obesity']).reset_index()\n",
    "obese['percent_obese'] = obese.apply(lambda x: x.Yes*100/(x.Yes+x.No),axis=1)\n",
    "sns.barplot(x='gender',y='percent_obese',data=obese)\n",
    "plt.title('Obesity in Diabetic Patients Across Gender')\n",
    "plt.ylabel('percentage');"
   ]
  },
  {
   "cell_type": "markdown",
   "id": "e1524873",
   "metadata": {},
   "source": [
    "A small percentage of the diabetic patients in both groups were obese"
   ]
  },
  {
   "cell_type": "markdown",
   "id": "23a33ffd",
   "metadata": {},
   "source": [
    "# 4. Data Preprocessing"
   ]
  },
  {
   "cell_type": "code",
   "execution_count": 34,
   "id": "90aa7d82",
   "metadata": {},
   "outputs": [],
   "source": [
    "from sklearn.base import BaseEstimator,TransformerMixin"
   ]
  },
  {
   "cell_type": "code",
   "execution_count": 35,
   "id": "0a8e89db",
   "metadata": {},
   "outputs": [],
   "source": [
    "class Encoder(BaseEstimator,TransformerMixin):\n",
    "    def fit(self,X,y=None):\n",
    "        return self\n",
    "    def transform(self,X,y=None):\n",
    "        df = X.copy()\n",
    "        df.replace(['Yes','Positive','Male','No','Negative','Female'],[1,1,1,0,0,0],inplace=True)\n",
    "        return df"
   ]
  },
  {
   "cell_type": "markdown",
   "id": "68cca519",
   "metadata": {},
   "source": [
    "# 5. Model Building and Evaluation"
   ]
  },
  {
   "cell_type": "code",
   "execution_count": 36,
   "id": "092dac07",
   "metadata": {},
   "outputs": [],
   "source": [
    "from sklearn.model_selection import KFold\n",
    "# import some models\n",
    "from sklearn.linear_model import LogisticRegression\n",
    "from sklearn.tree import DecisionTreeClassifier\n",
    "from sklearn.ensemble import RandomForestClassifier, ExtraTreesClassifier, GradientBoostingClassifier, AdaBoostClassifier\n",
    "from xgboost import XGBClassifier\n",
    "from lightgbm import LGBMClassifier\n",
    "from catboost import CatBoostClassifier\n",
    "\n",
    "# import evaluation functions\n",
    "from sklearn.metrics import confusion_matrix"
   ]
  },
  {
   "cell_type": "code",
   "execution_count": 37,
   "id": "34a7e16e",
   "metadata": {},
   "outputs": [],
   "source": [
    "# create a list of models\n",
    "models = [LogisticRegression(),\n",
    "          DecisionTreeClassifier(random_state=42),\n",
    "          RandomForestClassifier(random_state=42),\n",
    "          ExtraTreesClassifier(random_state=42),\n",
    "          GradientBoostingClassifier(random_state=42),\n",
    "          AdaBoostClassifier(random_state=42),\n",
    "          XGBClassifier(random_state=42,verbosity=0),\n",
    "          LGBMClassifier(random_state=42),\n",
    "          CatBoostClassifier(random_state=42,verbose=0)\n",
    "         ]"
   ]
  },
  {
   "cell_type": "code",
   "execution_count": null,
   "id": "262b9816",
   "metadata": {
    "scrolled": false
   },
   "outputs": [],
   "source": [
    "preprocessed = Encoder().fit_transform(df)\n",
    "X = preprocessed.drop('class',axis=1)\n",
    "y = preprocessed['class']\n",
    "cv = KFold(n_splits=5,shuffle=True,random_state=42)\n",
    "confusion_matrices = {model.__class__.__name__:np.array([[0,0],[0,0]]) for model in models}\n",
    "for model in models:\n",
    "    for train_index,test_index in cv.split(df):\n",
    "        X_train,X_test = X.iloc[train_index],X.iloc[test_index]\n",
    "        y_train,y_test = y[train_index],y[test_index]\n",
    "        model.fit(X_train,y_train)\n",
    "        preds = model.predict(X_test)\n",
    "        confusion_matrices[model.__class__.__name__]+=confusion_matrix(y_test,preds)"
   ]
  },
  {
   "cell_type": "code",
   "execution_count": null,
   "id": "7c92e37d",
   "metadata": {},
   "outputs": [],
   "source": [
    "results = pd.DataFrame()\n",
    "results['Model'] = list(confusion_matrices.keys())\n",
    "results[['TN','FP','FN','TP']] = [matrix.ravel() for matrix in list(confusion_matrices.values())]\n",
    "results['Recall'] = results.TP*100/(results.TP+results.FN)\n",
    "results['TN Rate'] = results.TN*100/(results.TN+results.FP)\n",
    "results"
   ]
  },
  {
   "cell_type": "markdown",
   "id": "9a2569a4",
   "metadata": {},
   "source": [
    "The Extra Trees Classifier correctly classifies **98.75 percent** of the diabetic cases while Random Forest and LGBM classifier correctly classify **98 percent** of the non diabetic cases in the dataset.\n",
    "\n",
    "A model that detects as many diabetic cases as possible should be of interest to us. As a result, recall should be employed to select a preferred model."
   ]
  },
  {
   "cell_type": "code",
   "execution_count": null,
   "id": "239bb702",
   "metadata": {
    "scrolled": false
   },
   "outputs": [],
   "source": [
    "et = ExtraTreesClassifier(random_state=42)\n",
    "et.fit(X,y)\n",
    "importances = pd.DataFrame(sorted(zip(et.feature_importances_,X.columns),reverse=True),\n",
    "                           columns=['importance','attribute'])\n",
    "\n",
    "plt.figure(figsize=(8,6))\n",
    "sns.barplot(data=importances,x='importance',y='attribute')\n",
    "plt.title('Symptoms of Diabetes');"
   ]
  },
  {
   "cell_type": "markdown",
   "id": "daffca1e",
   "metadata": {},
   "source": [
    "Polyuria and Polydipsia are strong predictors of diabetes. WebMD (2021) defines **Polyuria** as a condition of peeing more than normal.\n",
    "\n",
    "**Polydipsia**, on the other hand, is a medical term meaning excessive thirst. It is frequently associated with Polyuria because the body feels a persistent urge to replenish the fluids lost during urine. (Healthline, 2021)"
   ]
  },
  {
   "cell_type": "markdown",
   "id": "bde1683c",
   "metadata": {},
   "source": [
    "### Polyuria"
   ]
  },
  {
   "cell_type": "code",
   "execution_count": null,
   "id": "ff79b696",
   "metadata": {},
   "outputs": [],
   "source": [
    "polyuria = positive['polyuria'].value_counts(normalize=True)*100\n",
    "polyuria.plot.barh()\n",
    "plt.xlabel('percentage')\n",
    "plt.title('Polyuria in Diabetic Patients');"
   ]
  },
  {
   "cell_type": "markdown",
   "id": "c8a7564d",
   "metadata": {},
   "source": [
    "Over **70 percent** of the diabetic patients had polyuria."
   ]
  },
  {
   "cell_type": "code",
   "execution_count": null,
   "id": "7a077efe",
   "metadata": {
    "scrolled": true
   },
   "outputs": [],
   "source": [
    "(positive[positive.polyuria=='Yes'].gender.value_counts(normalize=True)*100).plot.barh()\n",
    "plt.xlabel('percentage')\n",
    "plt.title('Polyuria Across Gender');"
   ]
  },
  {
   "cell_type": "markdown",
   "id": "051dc2d2",
   "metadata": {},
   "source": [
    "Over **50 percent** of the diabetic patients who had polyuria were female patients."
   ]
  },
  {
   "cell_type": "code",
   "execution_count": null,
   "id": "239f7ac2",
   "metadata": {
    "scrolled": true
   },
   "outputs": [],
   "source": [
    "polyuria = pd.crosstab(index=positive.gender,columns=positive['polyuria']).reset_index()\n",
    "polyuria['percent_polyuria'] = polyuria.apply(lambda x: x.Yes*100/(x.Yes+x.No),axis=1)\n",
    "sns.barplot(x='gender',y='percent_polyuria',data=polyuria)\n",
    "plt.title('Obesity in Diabetic Patients Across Gender')\n",
    "plt.ylabel('percentage');"
   ]
  },
  {
   "cell_type": "markdown",
   "id": "bcd6c3c7",
   "metadata": {},
   "source": [
    "A significant percentage of the diabetic patients in both groups had polyuria"
   ]
  },
  {
   "cell_type": "markdown",
   "id": "85a19569",
   "metadata": {},
   "source": [
    "### Polydipsia"
   ]
  },
  {
   "cell_type": "code",
   "execution_count": null,
   "id": "13014de0",
   "metadata": {},
   "outputs": [],
   "source": [
    "polydipsia = positive['polydipsia'].value_counts(normalize=True)*100\n",
    "polydipsia.plot.barh()\n",
    "plt.xlabel('percentage')\n",
    "plt.title('Polydipsia in Diabetic Patients');"
   ]
  },
  {
   "cell_type": "markdown",
   "id": "e567de8a",
   "metadata": {},
   "source": [
    "About **70 percent** of the diabetic patients had polydipsia."
   ]
  },
  {
   "cell_type": "code",
   "execution_count": null,
   "id": "54887ae3",
   "metadata": {
    "scrolled": true
   },
   "outputs": [],
   "source": [
    "(positive[positive.polydipsia=='Yes'].gender.value_counts(normalize=True)*100).plot.barh()\n",
    "plt.xlabel('percentage')\n",
    "plt.title('Polydipsia Across Gender');"
   ]
  },
  {
   "cell_type": "markdown",
   "id": "68807cdf",
   "metadata": {},
   "source": [
    "Over **50 percent** of the diabetic patients who had polydipsia were female patients."
   ]
  },
  {
   "cell_type": "code",
   "execution_count": null,
   "id": "7988c2ad",
   "metadata": {
    "scrolled": true
   },
   "outputs": [],
   "source": [
    "polydipsia = pd.crosstab(index=positive.gender,columns=positive['polydipsia']).reset_index()\n",
    "polydipsia['percent_polydipsia'] = polydipsia.apply(lambda x: x.Yes*100/(x.Yes+x.No),axis=1)\n",
    "sns.barplot(x='gender',y='percent_polydipsia',data=polydipsia)\n",
    "plt.title('Polydipsia in Diabetic Patients Across Gender')\n",
    "plt.ylabel('percentage');"
   ]
  },
  {
   "cell_type": "markdown",
   "id": "945f387d",
   "metadata": {},
   "source": [
    "A significant percentage of the diabetic patients in both groups had polydipsia"
   ]
  },
  {
   "cell_type": "markdown",
   "id": "d7248b74",
   "metadata": {},
   "source": [
    "# 6. Pickle Final Model"
   ]
  },
  {
   "cell_type": "markdown",
   "id": "61e61e05",
   "metadata": {},
   "source": [
    "Let's make and pickle a full pipeline for our diabetes prediction tool. This eliminates the need to train our model whenever we need to make a prediction"
   ]
  },
  {
   "cell_type": "code",
   "execution_count": null,
   "id": "a7eb1823",
   "metadata": {},
   "outputs": [],
   "source": [
    "# import the pickle library\n",
    "import pickle\n",
    "from sklearn.pipeline import Pipeline\n",
    "import os\n",
    "\n",
    "# define pipeline\n",
    "full_pipeline = Pipeline([('preprocessor',Encoder()),\n",
    "                          ('model',ExtraTreesClassifier(random_state=42))])\n",
    "\n",
    "# seperate features from target\n",
    "X = df.drop('class',axis=1)\n",
    "y = df['class']\n",
    "\n",
    "# train the pipeline\n",
    "full_pipeline.fit(X,y)\n",
    "\n",
    "# pickle the pipeline\n",
    "if 'model.pkl' in os.listdir():\n",
    "    print('pickled model exists')\n",
    "    pass\n",
    "else:\n",
    "    pickle.dump(full_pipeline,open('model.pkl','wb'))\n",
    "    print('model pickled successfully')"
   ]
  },
  {
   "cell_type": "code",
   "execution_count": null,
   "id": "3dd37c9c",
   "metadata": {},
   "outputs": [],
   "source": [
    "# load pickled model\n",
    "model = pickle.load(open('model.pkl','rb'))"
   ]
  },
  {
   "cell_type": "code",
   "execution_count": null,
   "id": "949b89c6",
   "metadata": {},
   "outputs": [],
   "source": [
    "# create a set of features\n",
    "feats = pd.DataFrame([[30,'Male','Yes','Yes','No','Yes','No','Yes',\n",
    "                       'Yes','Yes','Yes','Yes','Yes','Yes','Yes','Yes']])\n",
    "\n",
    "# predict the diabetes class for the given features\n",
    "model.predict(feats)[0]"
   ]
  },
  {
   "cell_type": "code",
   "execution_count": null,
   "id": "497ed3ad",
   "metadata": {},
   "outputs": [],
   "source": []
  }
 ],
 "metadata": {
  "kernelspec": {
   "display_name": "Python 3",
   "language": "python",
   "name": "python3"
  },
  "language_info": {
   "codemirror_mode": {
    "name": "ipython",
    "version": 3
   },
   "file_extension": ".py",
   "mimetype": "text/x-python",
   "name": "python",
   "nbconvert_exporter": "python",
   "pygments_lexer": "ipython3",
   "version": "3.7.3"
  }
 },
 "nbformat": 4,
 "nbformat_minor": 5
}
