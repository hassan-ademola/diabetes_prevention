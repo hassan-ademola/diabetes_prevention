{
 "cells": [
  {
   "cell_type": "markdown",
   "id": "4beae10b",
   "metadata": {},
   "source": [
    "# 1. Import Necessary Libraries"
   ]
  },
  {
   "cell_type": "code",
   "execution_count": 142,
   "id": "d8d26632",
   "metadata": {},
   "outputs": [],
   "source": [
    "import pandas as pd\n",
    "import numpy as np\n",
    "import matplotlib.pyplot as plt\n",
    "import seaborn as sns\n",
    "import warnings\n",
    "%matplotlib inline\n",
    "warnings.filterwarnings('ignore')"
   ]
  },
  {
   "cell_type": "markdown",
   "id": "7c4cdfec",
   "metadata": {},
   "source": [
    "# 2. Data Inspection"
   ]
  },
  {
   "cell_type": "code",
   "execution_count": 4,
   "id": "e43e1d56",
   "metadata": {},
   "outputs": [
    {
     "data": {
      "text/html": [
       "<div>\n",
       "<style scoped>\n",
       "    .dataframe tbody tr th:only-of-type {\n",
       "        vertical-align: middle;\n",
       "    }\n",
       "\n",
       "    .dataframe tbody tr th {\n",
       "        vertical-align: top;\n",
       "    }\n",
       "\n",
       "    .dataframe thead th {\n",
       "        text-align: right;\n",
       "    }\n",
       "</style>\n",
       "<table border=\"1\" class=\"dataframe\">\n",
       "  <thead>\n",
       "    <tr style=\"text-align: right;\">\n",
       "      <th></th>\n",
       "      <th>Age</th>\n",
       "      <th>Gender</th>\n",
       "      <th>Polyuria</th>\n",
       "      <th>Polydipsia</th>\n",
       "      <th>sudden weight loss</th>\n",
       "      <th>weakness</th>\n",
       "      <th>Polyphagia</th>\n",
       "      <th>Genital thrush</th>\n",
       "      <th>visual blurring</th>\n",
       "      <th>Itching</th>\n",
       "      <th>Irritability</th>\n",
       "      <th>delayed healing</th>\n",
       "      <th>partial paresis</th>\n",
       "      <th>muscle stiffness</th>\n",
       "      <th>Alopecia</th>\n",
       "      <th>Obesity</th>\n",
       "      <th>class</th>\n",
       "    </tr>\n",
       "  </thead>\n",
       "  <tbody>\n",
       "    <tr>\n",
       "      <th>0</th>\n",
       "      <td>40</td>\n",
       "      <td>Male</td>\n",
       "      <td>No</td>\n",
       "      <td>Yes</td>\n",
       "      <td>No</td>\n",
       "      <td>Yes</td>\n",
       "      <td>No</td>\n",
       "      <td>No</td>\n",
       "      <td>No</td>\n",
       "      <td>Yes</td>\n",
       "      <td>No</td>\n",
       "      <td>Yes</td>\n",
       "      <td>No</td>\n",
       "      <td>Yes</td>\n",
       "      <td>Yes</td>\n",
       "      <td>Yes</td>\n",
       "      <td>Positive</td>\n",
       "    </tr>\n",
       "    <tr>\n",
       "      <th>1</th>\n",
       "      <td>58</td>\n",
       "      <td>Male</td>\n",
       "      <td>No</td>\n",
       "      <td>No</td>\n",
       "      <td>No</td>\n",
       "      <td>Yes</td>\n",
       "      <td>No</td>\n",
       "      <td>No</td>\n",
       "      <td>Yes</td>\n",
       "      <td>No</td>\n",
       "      <td>No</td>\n",
       "      <td>No</td>\n",
       "      <td>Yes</td>\n",
       "      <td>No</td>\n",
       "      <td>Yes</td>\n",
       "      <td>No</td>\n",
       "      <td>Positive</td>\n",
       "    </tr>\n",
       "    <tr>\n",
       "      <th>2</th>\n",
       "      <td>41</td>\n",
       "      <td>Male</td>\n",
       "      <td>Yes</td>\n",
       "      <td>No</td>\n",
       "      <td>No</td>\n",
       "      <td>Yes</td>\n",
       "      <td>Yes</td>\n",
       "      <td>No</td>\n",
       "      <td>No</td>\n",
       "      <td>Yes</td>\n",
       "      <td>No</td>\n",
       "      <td>Yes</td>\n",
       "      <td>No</td>\n",
       "      <td>Yes</td>\n",
       "      <td>Yes</td>\n",
       "      <td>No</td>\n",
       "      <td>Positive</td>\n",
       "    </tr>\n",
       "    <tr>\n",
       "      <th>3</th>\n",
       "      <td>45</td>\n",
       "      <td>Male</td>\n",
       "      <td>No</td>\n",
       "      <td>No</td>\n",
       "      <td>Yes</td>\n",
       "      <td>Yes</td>\n",
       "      <td>Yes</td>\n",
       "      <td>Yes</td>\n",
       "      <td>No</td>\n",
       "      <td>Yes</td>\n",
       "      <td>No</td>\n",
       "      <td>Yes</td>\n",
       "      <td>No</td>\n",
       "      <td>No</td>\n",
       "      <td>No</td>\n",
       "      <td>No</td>\n",
       "      <td>Positive</td>\n",
       "    </tr>\n",
       "    <tr>\n",
       "      <th>4</th>\n",
       "      <td>60</td>\n",
       "      <td>Male</td>\n",
       "      <td>Yes</td>\n",
       "      <td>Yes</td>\n",
       "      <td>Yes</td>\n",
       "      <td>Yes</td>\n",
       "      <td>Yes</td>\n",
       "      <td>No</td>\n",
       "      <td>Yes</td>\n",
       "      <td>Yes</td>\n",
       "      <td>Yes</td>\n",
       "      <td>Yes</td>\n",
       "      <td>Yes</td>\n",
       "      <td>Yes</td>\n",
       "      <td>Yes</td>\n",
       "      <td>Yes</td>\n",
       "      <td>Positive</td>\n",
       "    </tr>\n",
       "  </tbody>\n",
       "</table>\n",
       "</div>"
      ],
      "text/plain": [
       "   Age Gender Polyuria Polydipsia sudden weight loss weakness Polyphagia  \\\n",
       "0   40   Male       No        Yes                 No      Yes         No   \n",
       "1   58   Male       No         No                 No      Yes         No   \n",
       "2   41   Male      Yes         No                 No      Yes        Yes   \n",
       "3   45   Male       No         No                Yes      Yes        Yes   \n",
       "4   60   Male      Yes        Yes                Yes      Yes        Yes   \n",
       "\n",
       "  Genital thrush visual blurring Itching Irritability delayed healing  \\\n",
       "0             No              No     Yes           No             Yes   \n",
       "1             No             Yes      No           No              No   \n",
       "2             No              No     Yes           No             Yes   \n",
       "3            Yes              No     Yes           No             Yes   \n",
       "4             No             Yes     Yes          Yes             Yes   \n",
       "\n",
       "  partial paresis muscle stiffness Alopecia Obesity     class  \n",
       "0              No              Yes      Yes     Yes  Positive  \n",
       "1             Yes               No      Yes      No  Positive  \n",
       "2              No              Yes      Yes      No  Positive  \n",
       "3              No               No       No      No  Positive  \n",
       "4             Yes              Yes      Yes     Yes  Positive  "
      ]
     },
     "execution_count": 4,
     "metadata": {},
     "output_type": "execute_result"
    }
   ],
   "source": [
    "# load the data\n",
    "df = pd.read_csv('diabetes_data.csv')\n",
    "\n",
    "# inspect the top few rows\n",
    "df.head()"
   ]
  },
  {
   "cell_type": "markdown",
   "id": "12928eac",
   "metadata": {},
   "source": [
    "**Age** is the only numerical variable in the dataset"
   ]
  },
  {
   "cell_type": "code",
   "execution_count": 8,
   "id": "4a1ebfb2",
   "metadata": {},
   "outputs": [],
   "source": [
    "# rename columns for consistency\n",
    "df.columns = df.columns.str.lower()"
   ]
  },
  {
   "cell_type": "code",
   "execution_count": 9,
   "id": "42d82cb0",
   "metadata": {},
   "outputs": [
    {
     "name": "stdout",
     "output_type": "stream",
     "text": [
      "<class 'pandas.core.frame.DataFrame'>\n",
      "RangeIndex: 520 entries, 0 to 519\n",
      "Data columns (total 17 columns):\n",
      " #   Column              Non-Null Count  Dtype \n",
      "---  ------              --------------  ----- \n",
      " 0   age                 520 non-null    int64 \n",
      " 1   gender              520 non-null    object\n",
      " 2   polyuria            520 non-null    object\n",
      " 3   polydipsia          520 non-null    object\n",
      " 4   sudden weight loss  520 non-null    object\n",
      " 5   weakness            520 non-null    object\n",
      " 6   polyphagia          520 non-null    object\n",
      " 7   genital thrush      520 non-null    object\n",
      " 8   visual blurring     520 non-null    object\n",
      " 9   itching             520 non-null    object\n",
      " 10  irritability        520 non-null    object\n",
      " 11  delayed healing     520 non-null    object\n",
      " 12  partial paresis     520 non-null    object\n",
      " 13  muscle stiffness    520 non-null    object\n",
      " 14  alopecia            520 non-null    object\n",
      " 15  obesity             520 non-null    object\n",
      " 16  class               520 non-null    object\n",
      "dtypes: int64(1), object(16)\n",
      "memory usage: 69.2+ KB\n"
     ]
    }
   ],
   "source": [
    "# get a summary of the data\n",
    "df.info()"
   ]
  },
  {
   "cell_type": "markdown",
   "id": "1d718c07",
   "metadata": {},
   "source": [
    "- The data contains 520 rows and 17 columns\n",
    "- There are no missing values"
   ]
  },
  {
   "cell_type": "code",
   "execution_count": 6,
   "id": "8ef752e0",
   "metadata": {},
   "outputs": [
    {
     "data": {
      "text/html": [
       "<div>\n",
       "<style scoped>\n",
       "    .dataframe tbody tr th:only-of-type {\n",
       "        vertical-align: middle;\n",
       "    }\n",
       "\n",
       "    .dataframe tbody tr th {\n",
       "        vertical-align: top;\n",
       "    }\n",
       "\n",
       "    .dataframe thead th {\n",
       "        text-align: right;\n",
       "    }\n",
       "</style>\n",
       "<table border=\"1\" class=\"dataframe\">\n",
       "  <thead>\n",
       "    <tr style=\"text-align: right;\">\n",
       "      <th></th>\n",
       "      <th>Age</th>\n",
       "    </tr>\n",
       "  </thead>\n",
       "  <tbody>\n",
       "    <tr>\n",
       "      <th>count</th>\n",
       "      <td>520.000000</td>\n",
       "    </tr>\n",
       "    <tr>\n",
       "      <th>mean</th>\n",
       "      <td>48.028846</td>\n",
       "    </tr>\n",
       "    <tr>\n",
       "      <th>std</th>\n",
       "      <td>12.151466</td>\n",
       "    </tr>\n",
       "    <tr>\n",
       "      <th>min</th>\n",
       "      <td>16.000000</td>\n",
       "    </tr>\n",
       "    <tr>\n",
       "      <th>25%</th>\n",
       "      <td>39.000000</td>\n",
       "    </tr>\n",
       "    <tr>\n",
       "      <th>50%</th>\n",
       "      <td>47.500000</td>\n",
       "    </tr>\n",
       "    <tr>\n",
       "      <th>75%</th>\n",
       "      <td>57.000000</td>\n",
       "    </tr>\n",
       "    <tr>\n",
       "      <th>max</th>\n",
       "      <td>90.000000</td>\n",
       "    </tr>\n",
       "  </tbody>\n",
       "</table>\n",
       "</div>"
      ],
      "text/plain": [
       "              Age\n",
       "count  520.000000\n",
       "mean    48.028846\n",
       "std     12.151466\n",
       "min     16.000000\n",
       "25%     39.000000\n",
       "50%     47.500000\n",
       "75%     57.000000\n",
       "max     90.000000"
      ]
     },
     "execution_count": 6,
     "metadata": {},
     "output_type": "execute_result"
    }
   ],
   "source": [
    "# check a detailed summary of the numerical attribute\n",
    "df.describe()"
   ]
  },
  {
   "cell_type": "markdown",
   "id": "4eb9b412",
   "metadata": {},
   "source": [
    "- The youngest patient in the dataset is 16 years of age while the oldest is 90 years old\n",
    "- The average age of the patients represented in the data set is 47.5 years"
   ]
  },
  {
   "cell_type": "markdown",
   "id": "4a27bc90",
   "metadata": {},
   "source": [
    "# 3. Exploratory Data Analysis"
   ]
  },
  {
   "cell_type": "markdown",
   "id": "f07e3db9",
   "metadata": {},
   "source": [
    "### Diabetic Class"
   ]
  },
  {
   "cell_type": "markdown",
   "id": "e5ac585e",
   "metadata": {},
   "source": [
    "What percentage of the cases in the dataset is diabetic?"
   ]
  },
  {
   "cell_type": "code",
   "execution_count": 91,
   "id": "054bdf10",
   "metadata": {
    "scrolled": true
   },
   "outputs": [
    {
     "data": {
      "image/png": "[encoded data removed]",
      "text/plain": [
       "<Figure size 432x288 with 1 Axes>"
      ]
     },
     "metadata": {
      "needs_background": "light"
     },
     "output_type": "display_data"
    }
   ],
   "source": [
    "(df['class'].value_counts(normalize=True)*100).plot.barh();"
   ]
  },
  {
   "cell_type": "markdown",
   "id": "d683fe13",
   "metadata": {},
   "source": [
    "More than 60 percent of the patients were found to be diabetic"
   ]
  },
  {
   "cell_type": "code",
   "execution_count": 134,
   "id": "5a149cb0",
   "metadata": {},
   "outputs": [],
   "source": [
    "positive = df[df['class']=='Positive']"
   ]
  },
  {
   "cell_type": "markdown",
   "id": "251568da",
   "metadata": {},
   "source": [
    "### Age"
   ]
  },
  {
   "cell_type": "code",
   "execution_count": 160,
   "id": "732b0a87",
   "metadata": {},
   "outputs": [
    {
     "data": {
      "image/png": "[encoded data removed]",
      "text/plain": [
       "<Figure size 432x288 with 1 Axes>"
      ]
     },
     "metadata": {
      "needs_background": "light"
     },
     "output_type": "display_data"
    }
   ],
   "source": [
    "sns.distplot(positive.age)\n",
    "plt.title('Overall Age Distribution of Diabetic Patients');"
   ]
  },
  {
   "cell_type": "markdown",
   "id": "b0bc7a21",
   "metadata": {},
   "source": [
    "Over 70 percent of the diabetic patients experienced genital thrush.\n",
    "\n",
    "Let's see if genital thrush was more common in a particular gender"
   ]
  },
  {
   "cell_type": "code",
   "execution_count": 161,
   "id": "e8f0d669",
   "metadata": {
    "scrolled": true
   },
   "outputs": [
    {
     "data": {
      "image/png": "[encoded data removed]",
      "text/plain": [
       "<Figure size 864x288 with 2 Axes>"
      ]
     },
     "metadata": {
      "needs_background": "light"
     },
     "output_type": "display_data"
    }
   ],
   "source": [
    "fig,ax = plt.subplots(1,2,figsize=(12,4))\n",
    "sns.distplot(positive[positive.gender=='Male'].age,ax=ax[0])\n",
    "sns.distplot(positive[positive.gender=='Female'].age,ax=ax[1])\n",
    "ax[0].set_title('Age Distribution of Male Diabetic Patients')\n",
    "ax[1].set_title('Age Distribution of Female Diabetic Patients');"
   ]
  },
  {
   "cell_type": "markdown",
   "id": "a26cfb88",
   "metadata": {},
   "source": [
    "Younger women suffered diabetes than the older ones"
   ]
  },
  {
   "cell_type": "markdown",
   "id": "ae1fcc27",
   "metadata": {},
   "source": [
    "### Gender"
   ]
  },
  {
   "cell_type": "markdown",
   "id": "aa828740",
   "metadata": {},
   "source": [
    "How well are each gender represented?"
   ]
  },
  {
   "cell_type": "code",
   "execution_count": 19,
   "id": "1fe87165",
   "metadata": {},
   "outputs": [
    {
     "data": {
      "image/png": "[encoded data removed]",
      "text/plain": [
       "<Figure size 432x288 with 1 Axes>"
      ]
     },
     "metadata": {
      "needs_background": "light"
     },
     "output_type": "display_data"
    }
   ],
   "source": [
    "gender = df.gender.value_counts(normalize=True)*100\n",
    "gender.plot.barh();"
   ]
  },
  {
   "cell_type": "markdown",
   "id": "a781edca",
   "metadata": {},
   "source": [
    "About 40 percent of the patients are female"
   ]
  },
  {
   "cell_type": "code",
   "execution_count": 133,
   "id": "84cd294d",
   "metadata": {
    "scrolled": true
   },
   "outputs": [
    {
     "data": {
      "image/png": "[encoded data removed]",
      "text/plain": [
       "<Figure size 432x288 with 1 Axes>"
      ]
     },
     "metadata": {
      "needs_background": "light"
     },
     "output_type": "display_data"
    }
   ],
   "source": [
    "gender = positive.gender.value_counts(normalize=True)*100\n",
    "gender.plot.barh();"
   ]
  },
  {
   "cell_type": "markdown",
   "id": "ff8c713f",
   "metadata": {},
   "source": [
    "Over 50 percent of the diabetic patients are female"
   ]
  },
  {
   "cell_type": "markdown",
   "id": "306efd54",
   "metadata": {},
   "source": [
    "### Sudden Weight Loss"
   ]
  },
  {
   "cell_type": "code",
   "execution_count": 97,
   "id": "eeff4538",
   "metadata": {},
   "outputs": [
    {
     "data": {
      "image/png": "[encoded data removed]",
      "text/plain": [
       "<Figure size 432x288 with 1 Axes>"
      ]
     },
     "metadata": {
      "needs_background": "light"
     },
     "output_type": "display_data"
    }
   ],
   "source": [
    "weight_loss = positive['sudden weight loss'].value_counts(normalize=True)*100\n",
    "weight_loss.plot.barh();"
   ]
  },
  {
   "cell_type": "markdown",
   "id": "d9ba99ae",
   "metadata": {},
   "source": [
    "About 60 percent of the diabetic patients experienced sudden weight loss.\n",
    "\n",
    "Let's see if weight loss was more common in a particular gender"
   ]
  },
  {
   "cell_type": "code",
   "execution_count": 101,
   "id": "1d6960d1",
   "metadata": {
    "scrolled": true
   },
   "outputs": [
    {
     "data": {
      "image/png": "[encoded data removed]",
      "text/plain": [
       "<Figure size 432x288 with 1 Axes>"
      ]
     },
     "metadata": {
      "needs_background": "light"
     },
     "output_type": "display_data"
    }
   ],
   "source": [
    "gender_loss = pd.crosstab(index=positive.gender,columns=positive['sudden weight loss']).reset_index()\n",
    "gender_loss['percent_loss'] = gender_loss.apply(lambda x: x.Yes*100/(x.Yes+x.No),axis=1)\n",
    "sns.barplot(x='gender',y='percent_loss',data=gender_loss);"
   ]
  },
  {
   "cell_type": "markdown",
   "id": "0f642998",
   "metadata": {},
   "source": [
    "A larger percentage of the diabetic female patients expereinced sudden weight loss"
   ]
  },
  {
   "cell_type": "markdown",
   "id": "f75fda4d",
   "metadata": {},
   "source": [
    "### Weakness"
   ]
  },
  {
   "cell_type": "code",
   "execution_count": 105,
   "id": "616607b2",
   "metadata": {},
   "outputs": [
    {
     "data": {
      "image/png": "[encoded data removed]",
      "text/plain": [
       "<Figure size 432x288 with 1 Axes>"
      ]
     },
     "metadata": {
      "needs_background": "light"
     },
     "output_type": "display_data"
    }
   ],
   "source": [
    "weakness = positive['weakness'].value_counts(normalize=True)*100\n",
    "weakness.plot.barh();"
   ]
  },
  {
   "cell_type": "markdown",
   "id": "67e966d6",
   "metadata": {},
   "source": [
    "About 70 percent of the diabetic patients experienced weakness.\n",
    "\n",
    "Let's see if weakness was more common in a particular gender"
   ]
  },
  {
   "cell_type": "code",
   "execution_count": 113,
   "id": "4f1b8200",
   "metadata": {
    "scrolled": true
   },
   "outputs": [
    {
     "data": {
      "image/png": "[encoded data removed]",
      "text/plain": [
       "<Figure size 432x288 with 1 Axes>"
      ]
     },
     "metadata": {
      "needs_background": "light"
     },
     "output_type": "display_data"
    }
   ],
   "source": [
    "gender_weakness = pd.crosstab(index=positive.gender,columns=positive['weakness']).reset_index()\n",
    "gender_weakness['percent_weakness'] = gender_weakness.apply(lambda x: x.Yes*100/(x.Yes+x.No),axis=1)\n",
    "sns.barplot(x='gender',y='percent_weakness',data=gender_weakness);"
   ]
  },
  {
   "cell_type": "markdown",
   "id": "a16d191a",
   "metadata": {},
   "source": [
    "Almost an equal percentage of male and female suffered weakness"
   ]
  },
  {
   "cell_type": "markdown",
   "id": "99a917f6",
   "metadata": {},
   "source": [
    "### Genital Thrush"
   ]
  },
  {
   "cell_type": "code",
   "execution_count": 115,
   "id": "0c46df8b",
   "metadata": {},
   "outputs": [
    {
     "data": {
      "image/png": "[encoded data removed]",
      "text/plain": [
       "<Figure size 432x288 with 1 Axes>"
      ]
     },
     "metadata": {
      "needs_background": "light"
     },
     "output_type": "display_data"
    }
   ],
   "source": [
    "gen_thrush = positive['genital thrush'].value_counts(normalize=True)*100\n",
    "gen_thrush.plot.barh();"
   ]
  },
  {
   "cell_type": "markdown",
   "id": "dfb32833",
   "metadata": {},
   "source": [
    "Over 70 percent of the diabetic patients experienced genital thrush.\n",
    "\n",
    "Let's see if genital thrush was more common in a particular gender"
   ]
  },
  {
   "cell_type": "code",
   "execution_count": 116,
   "id": "f54226cb",
   "metadata": {
    "scrolled": true
   },
   "outputs": [
    {
     "data": {
      "image/png": "[encoded data removed]",
      "text/plain": [
       "<Figure size 432x288 with 1 Axes>"
      ]
     },
     "metadata": {
      "needs_background": "light"
     },
     "output_type": "display_data"
    }
   ],
   "source": [
    "gen_thrush = pd.crosstab(index=positive.gender,columns=positive['genital thrush']).reset_index()\n",
    "gen_thrush['percent_thrush'] = gen_thrush.apply(lambda x: x.Yes*100/(x.Yes+x.No),axis=1)\n",
    "sns.barplot(x='gender',y='percent_thrush',data=gen_thrush);"
   ]
  },
  {
   "cell_type": "markdown",
   "id": "5332509a",
   "metadata": {},
   "source": [
    "A large percentage of male experienced genital thrush"
   ]
  },
  {
   "cell_type": "markdown",
   "id": "23888459",
   "metadata": {},
   "source": [
    "### Visual Blurring"
   ]
  },
  {
   "cell_type": "code",
   "execution_count": 118,
   "id": "1ea90e6d",
   "metadata": {},
   "outputs": [
    {
     "data": {
      "image/png": "[encoded data removed]",
      "text/plain": [
       "<Figure size 432x288 with 1 Axes>"
      ]
     },
     "metadata": {
      "needs_background": "light"
     },
     "output_type": "display_data"
    }
   ],
   "source": [
    "blurring = positive['visual blurring'].value_counts(normalize=True)*100\n",
    "blurring.plot.barh();"
   ]
  },
  {
   "cell_type": "markdown",
   "id": "723e71b9",
   "metadata": {},
   "source": [
    "Over 70 percent of the diabetic patients experienced genital thrush.\n",
    "\n",
    "Let's see if genital thrush was more common in a particular gender"
   ]
  },
  {
   "cell_type": "code",
   "execution_count": 121,
   "id": "024b8801",
   "metadata": {
    "scrolled": true
   },
   "outputs": [
    {
     "data": {
      "image/png": "[encoded data removed]",
      "text/plain": [
       "<Figure size 432x288 with 1 Axes>"
      ]
     },
     "metadata": {
      "needs_background": "light"
     },
     "output_type": "display_data"
    }
   ],
   "source": [
    "gen_blurring = pd.crosstab(index=positive.gender,columns=positive['visual blurring']).reset_index()\n",
    "gen_blurring['percent_blurring'] = gen_blurring.apply(lambda x: x.Yes*100/(x.Yes+x.No),axis=1)\n",
    "sns.barplot(x='gender',y='percent_blurring',data=gen_blurring);"
   ]
  },
  {
   "cell_type": "markdown",
   "id": "f49a1587",
   "metadata": {},
   "source": [
    "A large percentage of male experienced genital thrush"
   ]
  },
  {
   "cell_type": "markdown",
   "id": "1eb81528",
   "metadata": {},
   "source": [
    "### Itching"
   ]
  },
  {
   "cell_type": "code",
   "execution_count": 122,
   "id": "a2e95c42",
   "metadata": {},
   "outputs": [
    {
     "data": {
      "image/png": "[encoded data removed]",
      "text/plain": [
       "<Figure size 432x288 with 1 Axes>"
      ]
     },
     "metadata": {
      "needs_background": "light"
     },
     "output_type": "display_data"
    }
   ],
   "source": [
    "itching = positive['itching'].value_counts(normalize=True)*100\n",
    "itching.plot.barh();"
   ]
  },
  {
   "cell_type": "markdown",
   "id": "5a1d095a",
   "metadata": {},
   "source": [
    "Over 70 percent of the diabetic patients experienced genital thrush.\n",
    "\n",
    "Let's see if genital thrush was more common in a particular gender"
   ]
  },
  {
   "cell_type": "code",
   "execution_count": 124,
   "id": "6ceaad8d",
   "metadata": {
    "scrolled": true
   },
   "outputs": [
    {
     "data": {
      "image/png": "[encoded data removed]",
      "text/plain": [
       "<Figure size 432x288 with 1 Axes>"
      ]
     },
     "metadata": {
      "needs_background": "light"
     },
     "output_type": "display_data"
    }
   ],
   "source": [
    "gen_itching = pd.crosstab(index=positive.gender,columns=positive['itching']).reset_index()\n",
    "gen_itching['percent_itching'] = gen_itching.apply(lambda x: x.Yes*100/(x.Yes+x.No),axis=1)\n",
    "sns.barplot(x='gender',y='percent_itching',data=gen_itching);"
   ]
  },
  {
   "cell_type": "markdown",
   "id": "f6ad3655",
   "metadata": {},
   "source": [
    "A large percentage of male experienced genital thrush"
   ]
  },
  {
   "cell_type": "markdown",
   "id": "aaf6ed18",
   "metadata": {},
   "source": [
    "### Delayed Healing"
   ]
  },
  {
   "cell_type": "code",
   "execution_count": 126,
   "id": "cd62d20d",
   "metadata": {},
   "outputs": [
    {
     "data": {
      "image/png": "[encoded data removed]",
      "text/plain": [
       "<Figure size 432x288 with 1 Axes>"
      ]
     },
     "metadata": {
      "needs_background": "light"
     },
     "output_type": "display_data"
    }
   ],
   "source": [
    "healing = positive['delayed healing'].value_counts(normalize=True)*100\n",
    "healing.plot.barh();"
   ]
  },
  {
   "cell_type": "markdown",
   "id": "10d35a9d",
   "metadata": {},
   "source": [
    "Over 70 percent of the diabetic patients experienced genital thrush.\n",
    "\n",
    "Let's see if genital thrush was more common in a particular gender"
   ]
  },
  {
   "cell_type": "code",
   "execution_count": 127,
   "id": "5b6890d3",
   "metadata": {
    "scrolled": true
   },
   "outputs": [
    {
     "data": {
      "image/png": "[encoded data removed]",
      "text/plain": [
       "<Figure size 432x288 with 1 Axes>"
      ]
     },
     "metadata": {
      "needs_background": "light"
     },
     "output_type": "display_data"
    }
   ],
   "source": [
    "gen_healing = pd.crosstab(index=positive.gender,columns=positive['delayed healing']).reset_index()\n",
    "gen_healing['percent_healing'] = gen_healing.apply(lambda x: x.Yes*100/(x.Yes+x.No),axis=1)\n",
    "sns.barplot(x='gender',y='percent_healing',data=gen_healing);"
   ]
  },
  {
   "cell_type": "markdown",
   "id": "7679d4bf",
   "metadata": {},
   "source": [
    "A large percentage of male experienced genital thrush"
   ]
  },
  {
   "cell_type": "markdown",
   "id": "5a4bcd56",
   "metadata": {},
   "source": [
    "### Obesity"
   ]
  },
  {
   "cell_type": "code",
   "execution_count": 131,
   "id": "b7b0bd18",
   "metadata": {},
   "outputs": [
    {
     "data": {
      "image/png": "[encoded data removed]",
      "text/plain": [
       "<Figure size 432x288 with 1 Axes>"
      ]
     },
     "metadata": {
      "needs_background": "light"
     },
     "output_type": "display_data"
    }
   ],
   "source": [
    "obesity = positive['obesity'].value_counts(normalize=True)*100\n",
    "obesity.plot.barh();"
   ]
  },
  {
   "cell_type": "markdown",
   "id": "c1ec553a",
   "metadata": {},
   "source": [
    "Over 70 percent of the diabetic patients experienced genital thrush.\n",
    "\n",
    "Let's see if genital thrush was more common in a particular gender"
   ]
  },
  {
   "cell_type": "code",
   "execution_count": 132,
   "id": "394ca392",
   "metadata": {
    "scrolled": true
   },
   "outputs": [
    {
     "data": {
      "image/png": "[encoded data removed]",
      "text/plain": [
       "<Figure size 432x288 with 1 Axes>"
      ]
     },
     "metadata": {
      "needs_background": "light"
     },
     "output_type": "display_data"
    }
   ],
   "source": [
    "gen_obese = pd.crosstab(index=positive.gender,columns=positive['obesity']).reset_index()\n",
    "gen_obese['percent_obese'] = gen_obese.apply(lambda x: x.Yes*100/(x.Yes+x.No),axis=1)\n",
    "sns.barplot(x='gender',y='percent_obese',data=gen_obese);"
   ]
  },
  {
   "cell_type": "markdown",
   "id": "e1524873",
   "metadata": {},
   "source": [
    "A large percentage of male experienced genital thrush"
   ]
  },
  {
   "cell_type": "markdown",
   "id": "23a33ffd",
   "metadata": {},
   "source": [
    "# 4. Data Preprocessing"
   ]
  },
  {
   "cell_type": "code",
   "execution_count": 166,
   "id": "90aa7d82",
   "metadata": {},
   "outputs": [],
   "source": [
    "from sklearn.base import BaseEstimator,TransformerMixin"
   ]
  },
  {
   "cell_type": "code",
   "execution_count": 167,
   "id": "0a8e89db",
   "metadata": {},
   "outputs": [],
   "source": [
    "class Encoder(BaseEstimator,TransformerMixin):\n",
    "    def fit(self,X,y=None):\n",
    "        return self\n",
    "    def transform(self,X,y=None):\n",
    "        df = X.copy()\n",
    "        df.replace(['Yes','Positive','Male','No','Negative','Female'],[1,1,1,0,0,0],inplace=True)\n",
    "        return df"
   ]
  },
  {
   "cell_type": "markdown",
   "id": "68cca519",
   "metadata": {},
   "source": [
    "# 5. Model Building and Evaluation"
   ]
  },
  {
   "cell_type": "code",
   "execution_count": 187,
   "id": "092dac07",
   "metadata": {},
   "outputs": [],
   "source": [
    "from sklearn.model_selection import KFold\n",
    "# import some models\n",
    "from sklearn.linear_model import LogisticRegression\n",
    "from sklearn.tree import DecisionTreeClassifier\n",
    "from sklearn.ensemble import RandomForestClassifier, ExtraTreesClassifier, GradientBoostingClassifier, AdaBoostClassifier\n",
    "from xgboost import XGBClassifier\n",
    "from lightgbm import LGBMClassifier\n",
    "from catboost import CatBoostClassifier\n",
    "\n",
    "# import evaluation functions\n",
    "from sklearn.metrics import accuracy_score, recall_score, precision_score, f1_score"
   ]
  },
  {
   "cell_type": "code",
   "execution_count": 201,
   "id": "34a7e16e",
   "metadata": {},
   "outputs": [],
   "source": [
    "# create a list of models\n",
    "models = [LogisticRegression(),\n",
    "          DecisionTreeClassifier(random_state=42),\n",
    "          RandomForestClassifier(random_state=42),\n",
    "          ExtraTreesClassifier(random_state=42),\n",
    "          GradientBoostingClassifier(random_state=42),\n",
    "          AdaBoostClassifier(random_state=42),\n",
    "          XGBClassifier(random_state=42),\n",
    "          LGBMClassifier(random_state=42),\n",
    "          CatBoostClassifier(random_state=42,verbose=0)\n",
    "         ]"
   ]
  },
  {
   "cell_type": "code",
   "execution_count": 203,
   "id": "23fb5f52",
   "metadata": {
    "scrolled": true
   },
   "outputs": [
    {
     "name": "stdout",
     "output_type": "stream",
     "text": [
      "[19:47:47] WARNING: C:/Users/Administrator/workspace/xgboost-win64_release_1.5.0/src/learner.cc:1115: Starting in XGBoost 1.3.0, the default evaluation metric used with the objective 'binary:logistic' was changed from 'error' to 'logloss'. Explicitly set eval_metric if you'd like to restore the old behavior.\n",
      "[19:47:48] WARNING: C:/Users/Administrator/workspace/xgboost-win64_release_1.5.0/src/learner.cc:1115: Starting in XGBoost 1.3.0, the default evaluation metric used with the objective 'binary:logistic' was changed from 'error' to 'logloss'. Explicitly set eval_metric if you'd like to restore the old behavior.\n",
      "[19:47:48] WARNING: C:/Users/Administrator/workspace/xgboost-win64_release_1.5.0/src/learner.cc:1115: Starting in XGBoost 1.3.0, the default evaluation metric used with the objective 'binary:logistic' was changed from 'error' to 'logloss'. Explicitly set eval_metric if you'd like to restore the old behavior.\n",
      "[19:47:48] WARNING: C:/Users/Administrator/workspace/xgboost-win64_release_1.5.0/src/learner.cc:1115: Starting in XGBoost 1.3.0, the default evaluation metric used with the objective 'binary:logistic' was changed from 'error' to 'logloss'. Explicitly set eval_metric if you'd like to restore the old behavior.\n",
      "[19:47:48] WARNING: C:/Users/Administrator/workspace/xgboost-win64_release_1.5.0/src/learner.cc:1115: Starting in XGBoost 1.3.0, the default evaluation metric used with the objective 'binary:logistic' was changed from 'error' to 'logloss'. Explicitly set eval_metric if you'd like to restore the old behavior.\n"
     ]
    }
   ],
   "source": [
    "preprocessed = Encoder().fit_transform(df)\n",
    "X = preprocessed.drop('class',axis=1)\n",
    "y = preprocessed['class']\n",
    "cv = KFold(n_splits=5,shuffle=True,random_state=42)\n",
    "scores = {model.__class__.__name__:[] for model in models}\n",
    "for model in models:\n",
    "    for train_index,test_index in cv.split(df):\n",
    "        X_train,X_test = X.iloc[train_index],X.iloc[test_index]\n",
    "        y_train,y_test = y[train_index],y[test_index]\n",
    "        model.fit(X_train,y_train)\n",
    "        preds = model.predict(X_test)\n",
    "        recall = recall_score(y_test,preds)\n",
    "        scores[model.__class__.__name__].append(recall)"
   ]
  },
  {
   "cell_type": "code",
   "execution_count": 208,
   "id": "47b9d1d6",
   "metadata": {
    "scrolled": true
   },
   "outputs": [
    {
     "data": {
      "text/plain": [
       "{'LogisticRegression': 0.9203744323866697,\n",
       " 'DecisionTreeClassifier': 0.9567590721927193,\n",
       " 'RandomForestClassifier': 0.9776100111598552,\n",
       " 'ExtraTreesClassifier': 0.9873470330177788,\n",
       " 'GradientBoostingClassifier': 0.968851208342954,\n",
       " 'AdaBoostClassifier': 0.9299577657200031,\n",
       " 'XGBClassifier': 0.9559891864850304,\n",
       " 'LGBMClassifier': 0.9584987108443009,\n",
       " 'CatBoostClassifier': 0.9713600111598553}"
      ]
     },
     "execution_count": 208,
     "metadata": {},
     "output_type": "execute_result"
    }
   ],
   "source": [
    "{model:np.mean(scores[model]) for model in scores}"
   ]
  },
  {
   "cell_type": "code",
   "execution_count": 211,
   "id": "239bb702",
   "metadata": {},
   "outputs": [
    {
     "data": {
      "image/png": "[encoded data removed]",
      "text/plain": [
       "<Figure size 432x288 with 1 Axes>"
      ]
     },
     "metadata": {
      "needs_background": "light"
     },
     "output_type": "display_data"
    }
   ],
   "source": [
    "et = ExtraTreesClassifier(random_state=42)\n",
    "et.fit(X,y)\n",
    "sns.barplot(x=et.feature_importances_,y=X.columns);"
   ]
  },
  {
   "cell_type": "code",
   "execution_count": null,
   "id": "5137555a",
   "metadata": {},
   "outputs": [],
   "source": []
  }
 ],
 "metadata": {
  "kernelspec": {
   "display_name": "Python 3",
   "language": "python",
   "name": "python3"
  },
  "language_info": {
   "codemirror_mode": {
    "name": "ipython",
    "version": 3
   },
   "file_extension": ".py",
   "mimetype": "text/x-python",
   "name": "python",
   "nbconvert_exporter": "python",
   "pygments_lexer": "ipython3",
   "version": "3.7.3"
  }
 },
 "nbformat": 4,
 "nbformat_minor": 5
}
